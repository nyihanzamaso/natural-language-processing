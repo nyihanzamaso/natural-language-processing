{
  "nbformat": 4,
  "nbformat_minor": 0,
  "metadata": {
    "colab": {
      "provenance": [],
      "authorship_tag": "ABX9TyOi3dLclSy/nBA/aW0joseM"
    },
    "kernelspec": {
      "name": "python3",
      "display_name": "Python 3"
    },
    "language_info": {
      "name": "python"
    }
  },
  "cells": [
    {
      "cell_type": "code",
      "execution_count": null,
      "metadata": {
        "colab": {
          "base_uri": "https://localhost:8080/"
        },
        "id": "aMKjjTX9zXcY",
        "outputId": "be1ed249-08f0-4058-c1ca-7779266627a9"
      },
      "outputs": [
        {
          "output_type": "stream",
          "name": "stdout",
          "text": [
            "Colab only includes TensorFlow 2.x; %tensorflow_version has no effect.\n"
          ]
        }
      ],
      "source": [
        "import json\n",
        "\n",
        "datastore = []\n",
        "with open('/content/Sarcasm_Headlines_Dataset.json', 'r') as f:\n",
        "    for line in f:\n",
        "        datastore.append(json.loads(line))\n",
        "\n",
        "\n",
        "sentences = []\n",
        "labels = []\n",
        "urls = []\n",
        "\n",
        "for item in datastore:\n",
        "  sentences.append(item['headline'])\n",
        "  labels.append(item['is_sarcastic'])\n",
        "  urls.append(item['article_link'])\n",
        "\n",
        "# Run this to ensure TensorFlow 2.x is used\n",
        "try:\n",
        "  # %tensorflow_version only exists in Colab.\n",
        "  %tensorflow_version 2.x\n",
        "except Exception:\n",
        "  pass"
      ]
    },
    {
      "cell_type": "code",
      "source": [
        "import tensorflow as tf\n",
        "from tensorflow import keras\n",
        "from tensorflow.keras.preprocessing.text import Tokenizer\n",
        "from tensorflow.keras.preprocessing.sequence import pad_sequences"
      ],
      "metadata": {
        "id": "oalD61jKzxTb"
      },
      "execution_count": null,
      "outputs": []
    },
    {
      "cell_type": "code",
      "source": [
        "tokenizer=Tokenizer(oov_token='<OOV>')\n",
        "tokenizer.fit_on_texts(sentences)\n",
        "word_index=tokenizer.word_index\n",
        "\n",
        "sequences=tokenizer.texts_to_sequences(sentences)\n",
        "padded=pad_sequences(sequences, padding='post')\n",
        "print(padded[0])\n",
        "print(padded.shape)\n",
        "\n"
      ],
      "metadata": {
        "colab": {
          "base_uri": "https://localhost:8080/"
        },
        "id": "J8RRPqASz_fI",
        "outputId": "29c3d278-6257-4c07-e424-d38e8ac26e6a"
      },
      "execution_count": null,
      "outputs": [
        {
          "output_type": "stream",
          "name": "stdout",
          "text": [
            "[  308 15115   679  3337  2298    48   382  2576 15116     6  2577  8434\n",
            "     0     0     0     0     0     0     0     0     0     0     0     0\n",
            "     0     0     0     0     0     0     0     0     0     0     0     0\n",
            "     0     0     0     0]\n",
            "(26709, 40)\n"
          ]
        }
      ]
    },
    {
      "cell_type": "code",
      "source": [
        "training_size=20000\n",
        "training_sentences=sentences[0:training_size]\n",
        "testing_sentences=sentences[training_size:]\n",
        "training_labels=labels[0:training_size]\n",
        "testing_labels=labels[training_size: ]"
      ],
      "metadata": {
        "id": "84qXQ0sp0tws"
      },
      "execution_count": null,
      "outputs": []
    },
    {
      "cell_type": "code",
      "source": [
        "vocab_size=10000\n",
        "max_length=100\n",
        "trunc_type='post'\n",
        "padding_type='post'\n",
        "tokenizer=Tokenizer(num_words=vocab_size, oov_token='<OOV>')\n",
        "tokenizer.fit_on_texts(training_sentences)\n",
        "\n",
        "word_index=tokenizer.word_index\n",
        "\n",
        "training_sequences=tokenizer.texts_to_sequences(training_sentences)\n",
        "training_padded=pad_sequences(training_sequences, padding=padding_type, maxlen=max_length, truncating=trunc_type)\n",
        "\n",
        "testing_sequences=tokenizer.texts_to_sequences(testing_sentences)\n",
        "testing_padded=pad_sequences(testing_sequences, padding=padding_type, maxlen=max_length, truncating=trunc_type)"
      ],
      "metadata": {
        "id": "8yVpF3R34C5o"
      },
      "execution_count": null,
      "outputs": []
    },
    {
      "cell_type": "code",
      "source": [
        "import numpy as np\n",
        "training_padded = np.array(training_padded)\n",
        "training_labels = np.array(training_labels)\n",
        "testing_padded = np.array(testing_padded)\n",
        "testing_labels = np.array(testing_labels)"
      ],
      "metadata": {
        "id": "hgTHW3e0DDvE"
      },
      "execution_count": null,
      "outputs": []
    },
    {
      "cell_type": "code",
      "source": [
        "embedding_dim=16\n",
        "model=tf.keras.Sequential([\n",
        "    tf.keras.layers.Embedding(vocab_size, embedding_dim, input_length=max_length),\n",
        "    tf.keras.layers.GlobalAveragePooling1D(),\n",
        "    tf.keras.layers.Dense(24, activation='relu'),\n",
        "    tf.keras.layers.Dense(1, activation='sigmoid')\n",
        "])\n",
        "\n",
        "model.compile(loss='binary_crossentropy',\n",
        "              optimizer='adam',\n",
        "              metrics=['accuracy']\n",
        "              )"
      ],
      "metadata": {
        "colab": {
          "base_uri": "https://localhost:8080/"
        },
        "id": "vBsteSBA6V_9",
        "outputId": "c8156332-2307-4b0b-d6fe-29c21cfa69ab"
      },
      "execution_count": null,
      "outputs": [
        {
          "output_type": "stream",
          "name": "stderr",
          "text": [
            "/usr/local/lib/python3.10/dist-packages/keras/src/layers/core/embedding.py:90: UserWarning: Argument `input_length` is deprecated. Just remove it.\n",
            "  warnings.warn(\n"
          ]
        }
      ]
    },
    {
      "cell_type": "code",
      "source": [
        "num_epochs=30\n",
        "history=model.fit(training_padded, training_labels, epochs=num_epochs,\n",
        "                  validation_data=(testing_padded, testing_labels), verbose=2)"
      ],
      "metadata": {
        "colab": {
          "base_uri": "https://localhost:8080/"
        },
        "id": "-_PUO_Rg7SEU",
        "outputId": "db63a9db-c18b-4e29-8800-b02b004ef115"
      },
      "execution_count": null,
      "outputs": [
        {
          "output_type": "stream",
          "name": "stdout",
          "text": [
            "Epoch 1/30\n",
            "625/625 - 8s - 12ms/step - accuracy: 0.6925 - loss: 0.5755 - val_accuracy: 0.8274 - val_loss: 0.4200\n",
            "Epoch 2/30\n",
            "625/625 - 10s - 17ms/step - accuracy: 0.8637 - loss: 0.3358 - val_accuracy: 0.8512 - val_loss: 0.3530\n",
            "Epoch 3/30\n",
            "625/625 - 9s - 14ms/step - accuracy: 0.9100 - loss: 0.2364 - val_accuracy: 0.8542 - val_loss: 0.3374\n",
            "Epoch 4/30\n",
            "625/625 - 5s - 9ms/step - accuracy: 0.9380 - loss: 0.1726 - val_accuracy: 0.8530 - val_loss: 0.3469\n",
            "Epoch 5/30\n",
            "625/625 - 9s - 15ms/step - accuracy: 0.9567 - loss: 0.1271 - val_accuracy: 0.8480 - val_loss: 0.3743\n",
            "Epoch 6/30\n",
            "625/625 - 6s - 10ms/step - accuracy: 0.9703 - loss: 0.0942 - val_accuracy: 0.8541 - val_loss: 0.3854\n",
            "Epoch 7/30\n",
            "625/625 - 4s - 7ms/step - accuracy: 0.9799 - loss: 0.0703 - val_accuracy: 0.8441 - val_loss: 0.4280\n",
            "Epoch 8/30\n",
            "625/625 - 6s - 10ms/step - accuracy: 0.9856 - loss: 0.0518 - val_accuracy: 0.8472 - val_loss: 0.4662\n",
            "Epoch 9/30\n",
            "625/625 - 9s - 15ms/step - accuracy: 0.9888 - loss: 0.0416 - val_accuracy: 0.8413 - val_loss: 0.5049\n",
            "Epoch 10/30\n",
            "625/625 - 6s - 9ms/step - accuracy: 0.9931 - loss: 0.0291 - val_accuracy: 0.8405 - val_loss: 0.5438\n",
            "Epoch 11/30\n",
            "625/625 - 4s - 7ms/step - accuracy: 0.9952 - loss: 0.0213 - val_accuracy: 0.8374 - val_loss: 0.5920\n",
            "Epoch 12/30\n",
            "625/625 - 4s - 7ms/step - accuracy: 0.9959 - loss: 0.0170 - val_accuracy: 0.8295 - val_loss: 0.6712\n",
            "Epoch 13/30\n",
            "625/625 - 6s - 10ms/step - accuracy: 0.9967 - loss: 0.0139 - val_accuracy: 0.8344 - val_loss: 0.7169\n",
            "Epoch 14/30\n",
            "625/625 - 10s - 16ms/step - accuracy: 0.9969 - loss: 0.0117 - val_accuracy: 0.8299 - val_loss: 0.7441\n",
            "Epoch 15/30\n",
            "625/625 - 5s - 8ms/step - accuracy: 0.9981 - loss: 0.0092 - val_accuracy: 0.8264 - val_loss: 0.8048\n",
            "Epoch 16/30\n",
            "625/625 - 5s - 7ms/step - accuracy: 0.9989 - loss: 0.0057 - val_accuracy: 0.8314 - val_loss: 0.8508\n",
            "Epoch 17/30\n",
            "625/625 - 5s - 7ms/step - accuracy: 0.9995 - loss: 0.0041 - val_accuracy: 0.8289 - val_loss: 0.8834\n",
            "Epoch 18/30\n",
            "625/625 - 5s - 8ms/step - accuracy: 0.9995 - loss: 0.0033 - val_accuracy: 0.8271 - val_loss: 0.9355\n",
            "Epoch 19/30\n",
            "625/625 - 4s - 6ms/step - accuracy: 0.9987 - loss: 0.0048 - val_accuracy: 0.8265 - val_loss: 0.9910\n",
            "Epoch 20/30\n",
            "625/625 - 6s - 10ms/step - accuracy: 0.9995 - loss: 0.0025 - val_accuracy: 0.8269 - val_loss: 1.0273\n",
            "Epoch 21/30\n",
            "625/625 - 4s - 7ms/step - accuracy: 0.9998 - loss: 0.0015 - val_accuracy: 0.8246 - val_loss: 1.0613\n",
            "Epoch 22/30\n",
            "625/625 - 5s - 8ms/step - accuracy: 0.9995 - loss: 0.0025 - val_accuracy: 0.8240 - val_loss: 1.1253\n",
            "Epoch 23/30\n",
            "625/625 - 5s - 8ms/step - accuracy: 0.9999 - loss: 9.3254e-04 - val_accuracy: 0.8235 - val_loss: 1.1368\n",
            "Epoch 24/30\n",
            "625/625 - 5s - 7ms/step - accuracy: 0.9999 - loss: 7.9030e-04 - val_accuracy: 0.8234 - val_loss: 1.1775\n",
            "Epoch 25/30\n",
            "625/625 - 4s - 7ms/step - accuracy: 0.9999 - loss: 7.9831e-04 - val_accuracy: 0.8222 - val_loss: 1.2039\n",
            "Epoch 26/30\n",
            "625/625 - 6s - 9ms/step - accuracy: 1.0000 - loss: 2.4378e-04 - val_accuracy: 0.8238 - val_loss: 1.2402\n",
            "Epoch 27/30\n",
            "625/625 - 12s - 19ms/step - accuracy: 1.0000 - loss: 1.8629e-04 - val_accuracy: 0.8179 - val_loss: 1.3916\n",
            "Epoch 28/30\n",
            "625/625 - 8s - 13ms/step - accuracy: 1.0000 - loss: 2.2291e-04 - val_accuracy: 0.8229 - val_loss: 1.3184\n",
            "Epoch 29/30\n",
            "625/625 - 6s - 10ms/step - accuracy: 0.9981 - loss: 0.0048 - val_accuracy: 0.8238 - val_loss: 1.3660\n",
            "Epoch 30/30\n",
            "625/625 - 4s - 7ms/step - accuracy: 0.9988 - loss: 0.0037 - val_accuracy: 0.8189 - val_loss: 1.3829\n"
          ]
        }
      ]
    },
    {
      "cell_type": "code",
      "source": [
        "sentence=[\n",
        "    'granny starting to fear spiders in the garden might be real',\n",
        "    'the weather today is bright and sunny'\n",
        "]\n",
        "\n",
        "sequences=tokenizer.texts_to_sequences(sentence)\n",
        "padded=pad_sequences(sequences, maxlen=max_length,\n",
        "                     padding='post',\n",
        "                     truncating='post'\n",
        "                     )\n",
        "predictions=model.predict(padded)\n",
        "round_predictions=np.round(predictions)\n",
        "print(round_predictions)"
      ],
      "metadata": {
        "colab": {
          "base_uri": "https://localhost:8080/"
        },
        "id": "XB7S-n4EAzMh",
        "outputId": "fe6ae547-85cc-4763-a08c-6c52af32103f"
      },
      "execution_count": null,
      "outputs": [
        {
          "output_type": "stream",
          "name": "stdout",
          "text": [
            "\u001b[1m1/1\u001b[0m \u001b[32m━━━━━━━━━━━━━━━━━━━━\u001b[0m\u001b[37m\u001b[0m \u001b[1m0s\u001b[0m 31ms/step\n",
            "[[0.]\n",
            " [0.]]\n"
          ]
        }
      ]
    },
    {
      "cell_type": "code",
      "source": [
        "test_predictions=model.predict(testing_padded)\n",
        "round_test_predictions=np.round(test_predictions)\n",
        "print(round_test_predictions[:5])"
      ],
      "metadata": {
        "colab": {
          "base_uri": "https://localhost:8080/"
        },
        "id": "veQW_-vuFXs-",
        "outputId": "ed2dcbd5-a94f-46bc-c2b0-d91c4ee16f71"
      },
      "execution_count": null,
      "outputs": [
        {
          "output_type": "stream",
          "name": "stdout",
          "text": [
            "\u001b[1m210/210\u001b[0m \u001b[32m━━━━━━━━━━━━━━━━━━━━\u001b[0m\u001b[37m\u001b[0m \u001b[1m0s\u001b[0m 1ms/step\n",
            "[[0.]\n",
            " [0.]\n",
            " [0.]\n",
            " [1.]\n",
            " [1.]]\n"
          ]
        }
      ]
    },
    {
      "cell_type": "code",
      "source": [
        "testing_sentences[:5]"
      ],
      "metadata": {
        "colab": {
          "base_uri": "https://localhost:8080/"
        },
        "id": "_ETYmdrpHXi4",
        "outputId": "c164fbf7-d53d-416e-e2e0-359be26a3729"
      },
      "execution_count": null,
      "outputs": [
        {
          "output_type": "execute_result",
          "data": {
            "text/plain": [
              "['pediatricians announce 2011 newborns are ugliest babies in 30 years',\n",
              " \"don't rely on your fitness tracker to lose weight\",\n",
              " 'you might want to cut back on the soap',\n",
              " 'bausch & lomb introduces line of aviator contacts',\n",
              " '7 everyday habits for glowing, younger-looking skin']"
            ]
          },
          "metadata": {},
          "execution_count": 36
        }
      ]
    },
    {
      "cell_type": "code",
      "source": [
        "testing_labels[:5]"
      ],
      "metadata": {
        "colab": {
          "base_uri": "https://localhost:8080/"
        },
        "id": "iZSOZfbnHfER",
        "outputId": "f3881415-7d4d-40ad-cdbf-2114270c4d6f"
      },
      "execution_count": null,
      "outputs": [
        {
          "output_type": "execute_result",
          "data": {
            "text/plain": [
              "array([1, 0, 0, 1, 0])"
            ]
          },
          "metadata": {},
          "execution_count": 37
        }
      ]
    },
    {
      "cell_type": "code",
      "source": [],
      "metadata": {
        "id": "XanP4MkCHoVf"
      },
      "execution_count": null,
      "outputs": []
    }
  ]
}